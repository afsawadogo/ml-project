{
 "cells": [
  {
   "cell_type": "code",
   "execution_count": 359,
   "source": [
    "import pandas as pd\r\n",
    "%matplotlib inline\r\n",
    "from sklearn.cluster import KMeans\r\n",
    "import sklearn.cluster as cluster\r\n",
    "import os\r\n",
    "from pathlib import Path\r\n"
   ],
   "outputs": [],
   "metadata": {}
  },
  {
   "cell_type": "code",
   "execution_count": 360,
   "source": [
    "data = pd.read_csv('testing_full_2nd_day_clusters_18.csv',low_memory=False)\r\n",
    "data = data.drop(['Unnamed: 0'],axis=1)\r\n",
    "data = data.fillna(method='bfill')"
   ],
   "outputs": [],
   "metadata": {}
  },
  {
   "cell_type": "code",
   "execution_count": 361,
   "source": [
    "data.head()"
   ],
   "outputs": [
    {
     "output_type": "execute_result",
     "data": {
      "text/html": [
       "<div>\n",
       "<style scoped>\n",
       "    .dataframe tbody tr th:only-of-type {\n",
       "        vertical-align: middle;\n",
       "    }\n",
       "\n",
       "    .dataframe tbody tr th {\n",
       "        vertical-align: top;\n",
       "    }\n",
       "\n",
       "    .dataframe thead th {\n",
       "        text-align: right;\n",
       "    }\n",
       "</style>\n",
       "<table border=\"1\" class=\"dataframe\">\n",
       "  <thead>\n",
       "    <tr style=\"text-align: right;\">\n",
       "      <th></th>\n",
       "      <th>Time</th>\n",
       "      <th>IP.Source</th>\n",
       "      <th>IP.Destination</th>\n",
       "      <th>MAC.Source</th>\n",
       "      <th>MAC.Destination</th>\n",
       "      <th>Protocol</th>\n",
       "      <th>Source Port</th>\n",
       "      <th>Destination Port</th>\n",
       "      <th>TTL</th>\n",
       "      <th>Length</th>\n",
       "      <th>Win.Size</th>\n",
       "      <th>Device</th>\n",
       "      <th>Class</th>\n",
       "    </tr>\n",
       "  </thead>\n",
       "  <tbody>\n",
       "    <tr>\n",
       "      <th>0</th>\n",
       "      <td>0.000000</td>\n",
       "      <td>3232235896</td>\n",
       "      <td>778643023</td>\n",
       "      <td>1865</td>\n",
       "      <td>1829</td>\n",
       "      <td>1</td>\n",
       "      <td>40234.0</td>\n",
       "      <td>5228.0</td>\n",
       "      <td>64.0</td>\n",
       "      <td>54.0</td>\n",
       "      <td>65360.0</td>\n",
       "      <td>Triby Speaker</td>\n",
       "      <td>19</td>\n",
       "    </tr>\n",
       "    <tr>\n",
       "      <th>1</th>\n",
       "      <td>0.000123</td>\n",
       "      <td>3232235896</td>\n",
       "      <td>778643023</td>\n",
       "      <td>1865</td>\n",
       "      <td>1829</td>\n",
       "      <td>1</td>\n",
       "      <td>40234.0</td>\n",
       "      <td>5228.0</td>\n",
       "      <td>64.0</td>\n",
       "      <td>54.0</td>\n",
       "      <td>65360.0</td>\n",
       "      <td>Triby Speaker</td>\n",
       "      <td>19</td>\n",
       "    </tr>\n",
       "    <tr>\n",
       "      <th>2</th>\n",
       "      <td>0.065516</td>\n",
       "      <td>878178719</td>\n",
       "      <td>3232235882</td>\n",
       "      <td>1829</td>\n",
       "      <td>1865</td>\n",
       "      <td>1</td>\n",
       "      <td>443.0</td>\n",
       "      <td>46330.0</td>\n",
       "      <td>224.0</td>\n",
       "      <td>54.0</td>\n",
       "      <td>963.0</td>\n",
       "      <td>TPLink Router Bridge LAN (Gateway)</td>\n",
       "      <td>29</td>\n",
       "    </tr>\n",
       "    <tr>\n",
       "      <th>3</th>\n",
       "      <td>0.125605</td>\n",
       "      <td>3232235972</td>\n",
       "      <td>872491130</td>\n",
       "      <td>1865</td>\n",
       "      <td>1829</td>\n",
       "      <td>1</td>\n",
       "      <td>3063.0</td>\n",
       "      <td>443.0</td>\n",
       "      <td>100.0</td>\n",
       "      <td>54.0</td>\n",
       "      <td>3072.0</td>\n",
       "      <td>SmartThings</td>\n",
       "      <td>1</td>\n",
       "    </tr>\n",
       "    <tr>\n",
       "      <th>4</th>\n",
       "      <td>0.298227</td>\n",
       "      <td>778643023</td>\n",
       "      <td>3232235896</td>\n",
       "      <td>1829</td>\n",
       "      <td>1865</td>\n",
       "      <td>1</td>\n",
       "      <td>5228.0</td>\n",
       "      <td>40234.0</td>\n",
       "      <td>48.0</td>\n",
       "      <td>9.0</td>\n",
       "      <td>63063.0</td>\n",
       "      <td>TPLink Router Bridge LAN (Gateway)</td>\n",
       "      <td>29</td>\n",
       "    </tr>\n",
       "  </tbody>\n",
       "</table>\n",
       "</div>"
      ],
      "text/plain": [
       "       Time   IP.Source IP.Destination  MAC.Source  MAC.Destination Protocol  \\\n",
       "0  0.000000  3232235896      778643023        1865             1829        1   \n",
       "1  0.000123  3232235896      778643023        1865             1829        1   \n",
       "2  0.065516   878178719     3232235882        1829             1865        1   \n",
       "3  0.125605  3232235972      872491130        1865             1829        1   \n",
       "4  0.298227   778643023     3232235896        1829             1865        1   \n",
       "\n",
       "   Source Port  Destination Port    TTL  Length  Win.Size  \\\n",
       "0      40234.0            5228.0   64.0    54.0   65360.0   \n",
       "1      40234.0            5228.0   64.0    54.0   65360.0   \n",
       "2        443.0           46330.0  224.0    54.0     963.0   \n",
       "3       3063.0             443.0  100.0    54.0    3072.0   \n",
       "4       5228.0           40234.0   48.0     9.0   63063.0   \n",
       "\n",
       "                               Device  Class  \n",
       "0                       Triby Speaker     19  \n",
       "1                       Triby Speaker     19  \n",
       "2  TPLink Router Bridge LAN (Gateway)     29  \n",
       "3                         SmartThings      1  \n",
       "4  TPLink Router Bridge LAN (Gateway)     29  "
      ]
     },
     "metadata": {},
     "execution_count": 361
    }
   ],
   "metadata": {}
  },
  {
   "cell_type": "code",
   "execution_count": 362,
   "source": [
    "data['Source Port'] = pd.to_numeric(data['Source Port'], errors='coerce').fillna(0)\r\n",
    "data['Destination Port'] = pd.to_numeric(data['Destination Port'], errors='coerce').fillna(0)"
   ],
   "outputs": [],
   "metadata": {}
  },
  {
   "cell_type": "code",
   "execution_count": 363,
   "source": [
    "features_list = ['TTL','Length','Win.Size','MAC.Source','MAC.Destination']"
   ],
   "outputs": [],
   "metadata": {}
  },
  {
   "cell_type": "code",
   "execution_count": 364,
   "source": [
    "def run_kmeans(cluters_numbers, features_list):\r\n",
    "    kmeans = cluster.KMeans(n_clusters=cluters_numbers ,init=\"k-means++\",max_iter=1000)\r\n",
    "    kmeans = kmeans.fit(data[features_list])\r\n",
    "    data['Clusters'] = kmeans.labels_\r\n",
    "    return kmeans"
   ],
   "outputs": [],
   "metadata": {}
  },
  {
   "cell_type": "code",
   "execution_count": 365,
   "source": [
    "features_list = ['TTL','Length','Win.Size','MAC.Source','MAC.Destination']\r\n",
    "kmeans = run_kmeans(18,features_list)"
   ],
   "outputs": [],
   "metadata": {}
  },
  {
   "cell_type": "code",
   "execution_count": 366,
   "source": [
    "def create_ground_thruth_file(ground_thruth_file_name, data_frame):\r\n",
    "    ground_thruth_files_path = './ground_thruth_files_batch_folder_2/'\r\n",
    "    file_name = open(ground_thruth_files_path + ground_thruth_file_name, \"w\")\r\n",
    "    lines = []\r\n",
    "    for i in range(1,len(data_frame)):\r\n",
    "        line = \"{}{}\".format('obs_', i) + \",{}{}\\n\".format('obs_',data_frame['Device'][i])\r\n",
    "        lines.append(line)\r\n",
    "    file_name.writelines(lines)\r\n",
    "    file_name.close()"
   ],
   "outputs": [],
   "metadata": {}
  },
  {
   "cell_type": "code",
   "execution_count": 367,
   "source": [
    "def create_clustering_result_file(clustering_file_name, data_frame):\r\n",
    "    clustering_file_path = './clustering_results_batch_folder_2/'\r\n",
    "    file_name = open(clustering_file_path + clustering_file_name, \"w\")\r\n",
    "    lines = []\r\n",
    "    groups = kmeans.predict(data_frame[features_list])\r\n",
    "    for i in range(1,len(data_frame)):\r\n",
    "        line = \"{}{}\".format('obs_', i) + \",{}{}\\n\".format('cluster_',groups[i])\r\n",
    "        lines.append(line)\r\n",
    "    file_name.writelines(lines)\r\n",
    "    file_name.close()"
   ],
   "outputs": [],
   "metadata": {}
  },
  {
   "cell_type": "code",
   "execution_count": 368,
   "source": [
    "path = './testing_batches/batch_folder_2/'\r\n",
    "files = os.listdir(path)\r\n",
    "\r\n",
    "batch_folder = []\r\n",
    "\r\n",
    "for f in files:\r\n",
    "    batch_folder.append(f)"
   ],
   "outputs": [],
   "metadata": {}
  },
  {
   "cell_type": "code",
   "execution_count": 369,
   "source": [
    "features_list = ['TTL','Length','Win.Size','MAC.Source','MAC.Destination']\r\n",
    "kmeans = run_kmeans(18,features_list)\r\n",
    "\r\n",
    "for i in range(1,len(batch_folder)):\r\n",
    "    file_name =  path + batch_folder[i]\r\n",
    "    df = pd.read_csv(file_name)\r\n",
    "    clustering = \"{}{}{}\".format('clustering_result', i,'.csv')\r\n",
    "    create_clustering_result_file(clustering, df)\r\n",
    "    ground_thruth = \"{}{}{}\".format('ground_thruth', i,'.csv')\r\n",
    "    create_ground_thruth_file( ground_thruth,df)"
   ],
   "outputs": [],
   "metadata": {}
  }
 ],
 "metadata": {
  "interpreter": {
   "hash": "a2aaef6ddf4cebf56f7b2bbc94ef3383934707c729001d0b4d87d5999887b4e4"
  },
  "kernelspec": {
   "name": "python3",
   "display_name": "Python 3.8.8 64-bit ('base': conda)"
  },
  "language_info": {
   "codemirror_mode": {
    "name": "ipython",
    "version": 3
   },
   "file_extension": ".py",
   "mimetype": "text/x-python",
   "name": "python",
   "nbconvert_exporter": "python",
   "pygments_lexer": "ipython3",
   "version": "3.8.8"
  },
  "toc-autonumbering": true
 },
 "nbformat": 4,
 "nbformat_minor": 4
}