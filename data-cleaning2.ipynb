{
 "cells": [
  {
   "cell_type": "code",
   "execution_count": 3,
   "metadata": {},
   "outputs": [],
   "source": [
    "import pandas as pd\n",
    "import numpy as np\n",
    "import ipaddress\n",
    "from ipaddress import ip_address, IPv4Address\n",
    "import socket\n",
    "from binascii import hexlify"
   ]
  },
  {
   "cell_type": "code",
   "execution_count": 4,
   "metadata": {},
   "outputs": [],
   "source": [
    "data = pd.read_csv('./data/16-09-23.csv',low_memory=False)\n",
    "data = data.fillna(method='bfill')"
   ]
  },
  {
   "cell_type": "code",
   "execution_count": 5,
   "metadata": {},
   "outputs": [],
   "source": [
    "def strToNumber(numStr):\n",
    "  num = 0\n",
    "  for i, c in enumerate(reversed(numStr)):\n",
    "    num += numStr.index(c) * (len(numStr) ** i)\n",
    "\n",
    "  return(num)"
   ]
  },
  {
   "cell_type": "code",
   "execution_count": 6,
   "metadata": {},
   "outputs": [],
   "source": [
    "def chunkMacAddress(mac):\n",
    "    return mac[0:6]"
   ]
  },
  {
   "cell_type": "code",
   "execution_count": 7,
   "metadata": {},
   "outputs": [],
   "source": [
    "def validIPAddress(IP: str) -> str:\n",
    "    try:\n",
    "        return int(ipaddress.ip_address(IP)) if type(ip_address(IP)) is IPv4Address else int(hexlify(socket.inet_pton(socket.AF_INET6, IP)), 16)\n",
    "    except ValueError:\n",
    "        return 0"
   ]
  },
  {
   "cell_type": "code",
   "execution_count": 8,
   "metadata": {},
   "outputs": [
    {
     "data": {
      "text/html": [
       "<div>\n",
       "<style scoped>\n",
       "    .dataframe tbody tr th:only-of-type {\n",
       "        vertical-align: middle;\n",
       "    }\n",
       "\n",
       "    .dataframe tbody tr th {\n",
       "        vertical-align: top;\n",
       "    }\n",
       "\n",
       "    .dataframe thead th {\n",
       "        text-align: right;\n",
       "    }\n",
       "</style>\n",
       "<table border=\"1\" class=\"dataframe\">\n",
       "  <thead>\n",
       "    <tr style=\"text-align: right;\">\n",
       "      <th></th>\n",
       "      <th>Time</th>\n",
       "      <th>IP.Source</th>\n",
       "      <th>IP.Destination</th>\n",
       "      <th>MAC.Source</th>\n",
       "      <th>MAC.Destination</th>\n",
       "      <th>Protocol</th>\n",
       "      <th>Source Port</th>\n",
       "      <th>Destination Port</th>\n",
       "      <th>TTL</th>\n",
       "      <th>Length</th>\n",
       "      <th>Win.Size</th>\n",
       "      <th>Info</th>\n",
       "    </tr>\n",
       "  </thead>\n",
       "  <tbody>\n",
       "    <tr>\n",
       "      <th>0</th>\n",
       "      <td>0.000000</td>\n",
       "      <td>192.168.1.120</td>\n",
       "      <td>46.105.38.79</td>\n",
       "      <td>18:b7:9e:02:20:44</td>\n",
       "      <td>14:cc:20:51:33:ea</td>\n",
       "      <td>TCP</td>\n",
       "      <td>40234.0</td>\n",
       "      <td>5228.0</td>\n",
       "      <td>64</td>\n",
       "      <td>54.0</td>\n",
       "      <td>65360.0</td>\n",
       "      <td>40234  &gt;  5228 [PSH, ACK] Seq=1 Ack=1 Win=6536...</td>\n",
       "    </tr>\n",
       "    <tr>\n",
       "      <th>1</th>\n",
       "      <td>0.000123</td>\n",
       "      <td>192.168.1.120</td>\n",
       "      <td>46.105.38.79</td>\n",
       "      <td>18:b7:9e:02:20:44</td>\n",
       "      <td>14:cc:20:51:33:ea</td>\n",
       "      <td>TCP</td>\n",
       "      <td>40234.0</td>\n",
       "      <td>5228.0</td>\n",
       "      <td>64</td>\n",
       "      <td>54.0</td>\n",
       "      <td>65360.0</td>\n",
       "      <td>[TCP Dup ACK 1#1] 40234  &gt;  5228 [ACK] Seq=5 A...</td>\n",
       "    </tr>\n",
       "    <tr>\n",
       "      <th>2</th>\n",
       "      <td>0.065516</td>\n",
       "      <td>52.87.241.159</td>\n",
       "      <td>192.168.1.106</td>\n",
       "      <td>14:cc:20:51:33:ea</td>\n",
       "      <td>30:8c:fb:2f:e4:b2</td>\n",
       "      <td>TCP</td>\n",
       "      <td>443.0</td>\n",
       "      <td>46330.0</td>\n",
       "      <td>224</td>\n",
       "      <td>54.0</td>\n",
       "      <td>963.0</td>\n",
       "      <td>443  &gt;  46330 [ACK] Seq=1 Ack=1 Win=963 Len=0 ...</td>\n",
       "    </tr>\n",
       "    <tr>\n",
       "      <th>3</th>\n",
       "      <td>0.125605</td>\n",
       "      <td>192.168.1.196</td>\n",
       "      <td>52.1.40.122</td>\n",
       "      <td>d0:52:a8:00:67:5e</td>\n",
       "      <td>14:cc:20:51:33:ea</td>\n",
       "      <td>TCP</td>\n",
       "      <td>3063.0</td>\n",
       "      <td>443.0</td>\n",
       "      <td>100</td>\n",
       "      <td>54.0</td>\n",
       "      <td>3072.0</td>\n",
       "      <td>3063  &gt;  443 [ACK] Seq=1 Ack=1 Win=3072 Len=1 ...</td>\n",
       "    </tr>\n",
       "    <tr>\n",
       "      <th>4</th>\n",
       "      <td>0.138757</td>\n",
       "      <td>195.154.199.173</td>\n",
       "      <td>192.168.1.241</td>\n",
       "      <td>14:cc:20:51:33:ea</td>\n",
       "      <td>70:ee:50:18:34:43</td>\n",
       "      <td>ICMP</td>\n",
       "      <td>5228.0</td>\n",
       "      <td>40234.0</td>\n",
       "      <td>45</td>\n",
       "      <td>54.0</td>\n",
       "      <td>63063.0</td>\n",
       "      <td>Echo (ping) reply    id=0x01b5, seq=1/256, ttl=45</td>\n",
       "    </tr>\n",
       "  </tbody>\n",
       "</table>\n",
       "</div>"
      ],
      "text/plain": [
       "       Time        IP.Source IP.Destination         MAC.Source  \\\n",
       "0  0.000000    192.168.1.120   46.105.38.79  18:b7:9e:02:20:44   \n",
       "1  0.000123    192.168.1.120   46.105.38.79  18:b7:9e:02:20:44   \n",
       "2  0.065516    52.87.241.159  192.168.1.106  14:cc:20:51:33:ea   \n",
       "3  0.125605    192.168.1.196    52.1.40.122  d0:52:a8:00:67:5e   \n",
       "4  0.138757  195.154.199.173  192.168.1.241  14:cc:20:51:33:ea   \n",
       "\n",
       "     MAC.Destination Protocol  Source Port  Destination Port  TTL  Length  \\\n",
       "0  14:cc:20:51:33:ea      TCP      40234.0            5228.0   64    54.0   \n",
       "1  14:cc:20:51:33:ea      TCP      40234.0            5228.0   64    54.0   \n",
       "2  30:8c:fb:2f:e4:b2      TCP        443.0           46330.0  224    54.0   \n",
       "3  14:cc:20:51:33:ea      TCP       3063.0             443.0  100    54.0   \n",
       "4  70:ee:50:18:34:43     ICMP       5228.0           40234.0   45    54.0   \n",
       "\n",
       "   Win.Size                                               Info  \n",
       "0   65360.0  40234  >  5228 [PSH, ACK] Seq=1 Ack=1 Win=6536...  \n",
       "1   65360.0  [TCP Dup ACK 1#1] 40234  >  5228 [ACK] Seq=5 A...  \n",
       "2     963.0  443  >  46330 [ACK] Seq=1 Ack=1 Win=963 Len=0 ...  \n",
       "3    3072.0  3063  >  443 [ACK] Seq=1 Ack=1 Win=3072 Len=1 ...  \n",
       "4   63063.0  Echo (ping) reply    id=0x01b5, seq=1/256, ttl=45  "
      ]
     },
     "execution_count": 8,
     "metadata": {},
     "output_type": "execute_result"
    }
   ],
   "source": [
    "data.head()"
   ]
  },
  {
   "cell_type": "code",
   "execution_count": 9,
   "metadata": {},
   "outputs": [
    {
     "data": {
      "text/plain": [
       "(947072, 12)"
      ]
     },
     "execution_count": 9,
     "metadata": {},
     "output_type": "execute_result"
    }
   ],
   "source": [
    "data.shape"
   ]
  },
  {
   "cell_type": "code",
   "execution_count": 10,
   "metadata": {},
   "outputs": [],
   "source": [
    "data = data.drop_duplicates()"
   ]
  },
  {
   "cell_type": "code",
   "execution_count": 11,
   "metadata": {},
   "outputs": [
    {
     "data": {
      "text/plain": [
       "array(['TCP', 'ICMP', 'DNS', 'ARP', 'UDPENCAP', 'TLSv1', 'ICMPv6',\n",
       "       'TLSv1.2', 'UDP', 'SSDP', 'HTTP', 'TPCP', 'HTTP/XML', 'DISTCC ',\n",
       "       'ESP', 'NTP', 'IGMPv2', 'XMPP/XML', 'STUN', 'BROWSER', 'SIP',\n",
       "       'DHCP', 'NBNS', 'XID', 'EAPOL', 'Gearman', 'IGMPv3',\n",
       "       'CLASSIC-STUN', 'MIH', 'GQUIC', 'ICP', 'RSIP', 'ULP', 'HTTP/JSON',\n",
       "       'WOW', 'DIAMETER', 'DHCPv6', 'TFP over TCP', 'AX4000', 'ISAKMP',\n",
       "       'TDLS', 'SABP', '? KNXnet/IP', 'TCPCL', 'MDNS', 'IPv6', 'LLMNR',\n",
       "       'IPv4', 'DB-LSP-DISC/JSON', 'FB_ZERO', 'NAT-PMP', 'DTLSv1.0',\n",
       "       'SSL', 'MPEG TS', 'X11', 'PKIX-CRL', 'RSL', '0x86dd'], dtype=object)"
      ]
     },
     "execution_count": 11,
     "metadata": {},
     "output_type": "execute_result"
    }
   ],
   "source": [
    "data.Protocol.unique()"
   ]
  },
  {
   "cell_type": "markdown",
   "metadata": {},
   "source": [
    "### Convert IP addresses"
   ]
  },
  {
   "cell_type": "code",
   "execution_count": 12,
   "metadata": {},
   "outputs": [],
   "source": [
    "data['IP.Source'] = data['IP.Source'].apply(validIPAddress)\n",
    "data['IP.Destination'] = data['IP.Destination'].apply(validIPAddress)"
   ]
  },
  {
   "cell_type": "markdown",
   "metadata": {},
   "source": [
    "### Filter out some protocols"
   ]
  },
  {
   "cell_type": "code",
   "execution_count": 13,
   "metadata": {},
   "outputs": [],
   "source": [
    "data = data[data.Protocol != 'ICMP']\n",
    "data = data[data.Protocol != 'DNS']\n",
    "data = data[data.Protocol != 'ICMP']\n",
    "data = data[data.Protocol != 'ICMPv6']\n",
    "data = data[data.Protocol != 'DNS']\n",
    "data = data[data.Protocol != 'TLSv1']\n",
    "data = data[data.Protocol != 'TFP over TCP']\n",
    "data = data[data.Protocol != 'DNS']\n",
    "data = data[data.Protocol != 'DCHP']\n",
    "data = data[data.Protocol != 'APR']\n",
    "data = data[data.Protocol != 'TLSv1.1']\n",
    "data = data[data.Protocol != 'TLSv1.2']\n",
    "data = data[data.Protocol != 'Config']"
   ]
  },
  {
   "cell_type": "code",
   "execution_count": 14,
   "metadata": {},
   "outputs": [
    {
     "data": {
      "text/plain": [
       "array(['TCP', 'ARP', 'UDPENCAP', 'UDP', 'SSDP', 'HTTP', 'TPCP',\n",
       "       'HTTP/XML', 'DISTCC ', 'ESP', 'NTP', 'IGMPv2', 'XMPP/XML', 'STUN',\n",
       "       'BROWSER', 'SIP', 'DHCP', 'NBNS', 'XID', 'EAPOL', 'Gearman',\n",
       "       'IGMPv3', 'CLASSIC-STUN', 'MIH', 'GQUIC', 'ICP', 'RSIP', 'ULP',\n",
       "       'HTTP/JSON', 'WOW', 'DIAMETER', 'DHCPv6', 'AX4000', 'ISAKMP',\n",
       "       'TDLS', 'SABP', '? KNXnet/IP', 'TCPCL', 'MDNS', 'IPv6', 'LLMNR',\n",
       "       'IPv4', 'DB-LSP-DISC/JSON', 'FB_ZERO', 'NAT-PMP', 'DTLSv1.0',\n",
       "       'SSL', 'MPEG TS', 'X11', 'PKIX-CRL', 'RSL', '0x86dd'], dtype=object)"
      ]
     },
     "execution_count": 14,
     "metadata": {},
     "output_type": "execute_result"
    }
   ],
   "source": [
    "data.Protocol.unique()"
   ]
  },
  {
   "cell_type": "markdown",
   "metadata": {},
   "source": [
    "### Convert Protocol"
   ]
  },
  {
   "cell_type": "code",
   "execution_count": 15,
   "metadata": {},
   "outputs": [],
   "source": [
    "data['Protocol'] = [x.replace('TCP','1') for x in data['Protocol']]\n",
    "data['Protocol'] = [x.replace('ARP','2') for x in data['Protocol']]\n",
    "data['Protocol'] = [x.replace('UDPENCAP','3') for x in data['Protocol']]\n",
    "data['Protocol'] = [x.replace('UDP','4') for x in data['Protocol']]\n",
    "data['Protocol'] = [x.replace('SSDP','5') for x in data['Protocol']]\n",
    "data['Protocol'] = [x.replace('NBNS','6') for x in data['Protocol']]\n",
    "data['Protocol'] = [x.replace('ESP','7') for x in data['Protocol']]\n",
    "data['Protocol'] = [x.replace('IGMPv2','8') for x in data['Protocol']]\n",
    "data['Protocol'] = [x.replace('NTP','9') for x in data['Protocol']]\n",
    "data['Protocol'] = [x.replace('SIP','10') for x in data['Protocol']]\n",
    "data['Protocol'] = [x.replace('HTTP','11') for x in data['Protocol']]\n",
    "data['Protocol'] = [x.replace('HTTP/XML','12') for x in data['Protocol']]\n",
    "data['Protocol'] = [x.replace('11/XML','12') for x in data['Protocol']]\n",
    "data['Protocol'] = [x.replace('STUN','13') for x in data['Protocol']]\n",
    "data['Protocol'] = [x.replace('XID','14') for x in data['Protocol']]\n",
    "data['Protocol'] = [x.replace('EAPOL','15') for x in data['Protocol']]\n",
    "data['Protocol'] = [x.replace('DHCP','16') for x in data['Protocol']]\n",
    "data['Protocol'] = [x.replace('ADwin Config','17') for x in data['Protocol']]\n",
    "data['Protocol'] = [x.replace('BROWSER','18') for x in data['Protocol']]\n",
    "data['Protocol'] = [x.replace('HTTP/JSON','19') for x in data['Protocol']]\n",
    "data['Protocol'] = [x.replace('11/JSON','19') for x in data['Protocol']]\n",
    "data['Protocol'] = [x.replace('CLASSIC-STUN','21') for x in data['Protocol']]\n",
    "data['Protocol'] = [x.replace('XMPP/XML','22') for x in data['Protocol']]\n",
    "data['Protocol'] = [x.replace('Gearman','23') for x in data['Protocol']]\n",
    "data['Protocol'] = [x.replace('IGMPv3','24') for x in data['Protocol']]\n",
    "data['Protocol'] = [x.replace('SABP','25') for x in data['Protocol']]\n",
    "data['Protocol'] = [x.replace('GQUIC','26') for x in data['Protocol']]\n",
    "data['Protocol'] = [x.replace('ISAKMP','27') for x in data['Protocol']]\n",
    "data['Protocol'] = [x.replace('ULP','28') for x in data['Protocol']]\n",
    "data['Protocol'] = [x.replace('ASAP','29') for x in data['Protocol']]\n",
    "data['Protocol'] = [x.replace('DIAMETER','30') for x in data['Protocol']]\n",
    "data['Protocol'] = [x.replace('WOW','31') for x in data['Protocol']]\n",
    "data['Protocol'] = [x.replace('DHCPv6','32') for x in data['Protocol']]\n",
    "data['Protocol'] = [x.replace('AX4000','33') for x in data['Protocol']]\n",
    "data['Protocol'] = [x.replace('TCPCL','34') for x in data['Protocol']]\n",
    "data['Protocol'] = [x.replace('DISTCC','35') for x in data['Protocol']]\n",
    "data['Protocol'] = [x.replace('? KNXnet/IP','36') for x in data['Protocol']]\n",
    "data['Protocol'] = [x.replace('MIH','37') for x in data['Protocol']]\n",
    "data['Protocol'] = [x.replace('GSMTAP','38') for x in data['Protocol']]\n",
    "data['Protocol'] = [x.replace('RSIP','39') for x in data['Protocol']]\n",
    "data['Protocol'] = [x.replace('MDNS','40') for x in data['Protocol']]\n",
    "data['Protocol'] = [x.replace('NAT-PMP','41') for x in data['Protocol']]\n",
    "data['Protocol'] = [x.replace('GRE','42') for x in data['Protocol']]\n",
    "data['Protocol'] = [x.replace('BFD Control','43') for x in data['Protocol']]"
   ]
  },
  {
   "cell_type": "code",
   "execution_count": 16,
   "metadata": {},
   "outputs": [],
   "source": [
    "data['Protocol'] = [x.replace('11/XML','12') for x in data['Protocol']]\n",
    "data['Protocol'] = [x.replace('CLASSIC-13','21') for x in data['Protocol']]\n",
    "data['Protocol'] = [x.replace('11/JSON','20') for x in data['Protocol']]\n",
    "data['Protocol'] = [x.replace('16v6','32') for x in data['Protocol']]\n",
    "data['Protocol'] = [x.replace('1CL','34') for x in data['Protocol']]\n",
    "data['Protocol'] = [x.replace('R10','39') for x in data['Protocol']]"
   ]
  },
  {
   "cell_type": "code",
   "execution_count": 17,
   "metadata": {},
   "outputs": [
    {
     "data": {
      "text/plain": [
       "array(['1', '2', '3', '4', '5', '11', 'TPCP', '12', '35 ', '7', '9', '8',\n",
       "       '22', '13', '18', '10', '16', '6', '14', '15', '23', '24', '21',\n",
       "       '37', '26', 'ICP', '39', '28', '19', '31', '30', '32', '33', '27',\n",
       "       'TDLS', '25', '36', '34', '40', 'IPv6', 'LLMNR', 'IPv4',\n",
       "       'DB-LSP-DISC/JSON', 'FB_ZERO', '41', 'DTLSv1.0', 'SSL', 'MPEG TS',\n",
       "       'X11', 'PKIX-CRL', 'RSL', '0x86dd'], dtype=object)"
      ]
     },
     "execution_count": 17,
     "metadata": {},
     "output_type": "execute_result"
    }
   ],
   "source": [
    "protocols = data.Protocol.unique()\n",
    "protocols"
   ]
  },
  {
   "cell_type": "code",
   "execution_count": 18,
   "metadata": {},
   "outputs": [],
   "source": [
    "data['Protocol'] = [x.replace('TPCP','44') for x in data['Protocol']]\n",
    "data['Protocol'] = [x.replace('TDLS','45') for x in data['Protocol']]\n",
    "data['Protocol'] = [x.replace('IPv6','46') for x in data['Protocol']]\n",
    "data['Protocol'] = [x.replace('LLMNR','47') for x in data['Protocol']]\n",
    "data['Protocol'] = [x.replace('IPv4','48') for x in data['Protocol']]\n",
    "data['Protocol'] = [x.replace('DB-LSP-DISC/JSON','49') for x in data['Protocol']]\n",
    "data['Protocol'] = [x.replace('FB_ZERO','50') for x in data['Protocol']]\n",
    "data['Protocol'] = [x.replace('DTLSv1.0','51') for x in data['Protocol']]\n",
    "data['Protocol'] = [x.replace('SSL','52') for x in data['Protocol']]\n",
    "data['Protocol'] = [x.replace('MPEG TS','53') for x in data['Protocol']]\n",
    "data['Protocol'] = [x.replace('XX1','54') for x in data['Protocol']]\n",
    "data['Protocol'] = [x.replace('PKIX-CRL','55') for x in data['Protocol']]\n",
    "data['Protocol'] = [x.replace('RSL','56') for x in data['Protocol']]\n",
    "data['Protocol'] = [x.replace('0x86dd','56') for x in data['Protocol']]"
   ]
  },
  {
   "cell_type": "code",
   "execution_count": 19,
   "metadata": {},
   "outputs": [
    {
     "data": {
      "text/html": [
       "<div>\n",
       "<style scoped>\n",
       "    .dataframe tbody tr th:only-of-type {\n",
       "        vertical-align: middle;\n",
       "    }\n",
       "\n",
       "    .dataframe tbody tr th {\n",
       "        vertical-align: top;\n",
       "    }\n",
       "\n",
       "    .dataframe thead th {\n",
       "        text-align: right;\n",
       "    }\n",
       "</style>\n",
       "<table border=\"1\" class=\"dataframe\">\n",
       "  <thead>\n",
       "    <tr style=\"text-align: right;\">\n",
       "      <th></th>\n",
       "      <th>Time</th>\n",
       "      <th>IP.Source</th>\n",
       "      <th>IP.Destination</th>\n",
       "      <th>MAC.Source</th>\n",
       "      <th>MAC.Destination</th>\n",
       "      <th>Protocol</th>\n",
       "      <th>Source Port</th>\n",
       "      <th>Destination Port</th>\n",
       "      <th>TTL</th>\n",
       "      <th>Length</th>\n",
       "      <th>Win.Size</th>\n",
       "      <th>Info</th>\n",
       "    </tr>\n",
       "  </thead>\n",
       "  <tbody>\n",
       "    <tr>\n",
       "      <th>0</th>\n",
       "      <td>0.000000</td>\n",
       "      <td>3232235896</td>\n",
       "      <td>778643023</td>\n",
       "      <td>18:b7:9e:02:20:44</td>\n",
       "      <td>14:cc:20:51:33:ea</td>\n",
       "      <td>1</td>\n",
       "      <td>40234.0</td>\n",
       "      <td>5228.0</td>\n",
       "      <td>64</td>\n",
       "      <td>54.0</td>\n",
       "      <td>65360.0</td>\n",
       "      <td>40234  &gt;  5228 [PSH, ACK] Seq=1 Ack=1 Win=6536...</td>\n",
       "    </tr>\n",
       "    <tr>\n",
       "      <th>1</th>\n",
       "      <td>0.000123</td>\n",
       "      <td>3232235896</td>\n",
       "      <td>778643023</td>\n",
       "      <td>18:b7:9e:02:20:44</td>\n",
       "      <td>14:cc:20:51:33:ea</td>\n",
       "      <td>1</td>\n",
       "      <td>40234.0</td>\n",
       "      <td>5228.0</td>\n",
       "      <td>64</td>\n",
       "      <td>54.0</td>\n",
       "      <td>65360.0</td>\n",
       "      <td>[TCP Dup ACK 1#1] 40234  &gt;  5228 [ACK] Seq=5 A...</td>\n",
       "    </tr>\n",
       "    <tr>\n",
       "      <th>2</th>\n",
       "      <td>0.065516</td>\n",
       "      <td>878178719</td>\n",
       "      <td>3232235882</td>\n",
       "      <td>14:cc:20:51:33:ea</td>\n",
       "      <td>30:8c:fb:2f:e4:b2</td>\n",
       "      <td>1</td>\n",
       "      <td>443.0</td>\n",
       "      <td>46330.0</td>\n",
       "      <td>224</td>\n",
       "      <td>54.0</td>\n",
       "      <td>963.0</td>\n",
       "      <td>443  &gt;  46330 [ACK] Seq=1 Ack=1 Win=963 Len=0 ...</td>\n",
       "    </tr>\n",
       "    <tr>\n",
       "      <th>3</th>\n",
       "      <td>0.125605</td>\n",
       "      <td>3232235972</td>\n",
       "      <td>872491130</td>\n",
       "      <td>d0:52:a8:00:67:5e</td>\n",
       "      <td>14:cc:20:51:33:ea</td>\n",
       "      <td>1</td>\n",
       "      <td>3063.0</td>\n",
       "      <td>443.0</td>\n",
       "      <td>100</td>\n",
       "      <td>54.0</td>\n",
       "      <td>3072.0</td>\n",
       "      <td>3063  &gt;  443 [ACK] Seq=1 Ack=1 Win=3072 Len=1 ...</td>\n",
       "    </tr>\n",
       "    <tr>\n",
       "      <th>6</th>\n",
       "      <td>0.298227</td>\n",
       "      <td>778643023</td>\n",
       "      <td>3232235896</td>\n",
       "      <td>14:cc:20:51:33:ea</td>\n",
       "      <td>18:b7:9e:02:20:44</td>\n",
       "      <td>1</td>\n",
       "      <td>5228.0</td>\n",
       "      <td>40234.0</td>\n",
       "      <td>48</td>\n",
       "      <td>9.0</td>\n",
       "      <td>63063.0</td>\n",
       "      <td>5228  &gt;  40234 [PSH, ACK] Seq=1 Ack=5 Win=6306...</td>\n",
       "    </tr>\n",
       "  </tbody>\n",
       "</table>\n",
       "</div>"
      ],
      "text/plain": [
       "       Time   IP.Source IP.Destination         MAC.Source    MAC.Destination  \\\n",
       "0  0.000000  3232235896      778643023  18:b7:9e:02:20:44  14:cc:20:51:33:ea   \n",
       "1  0.000123  3232235896      778643023  18:b7:9e:02:20:44  14:cc:20:51:33:ea   \n",
       "2  0.065516   878178719     3232235882  14:cc:20:51:33:ea  30:8c:fb:2f:e4:b2   \n",
       "3  0.125605  3232235972      872491130  d0:52:a8:00:67:5e  14:cc:20:51:33:ea   \n",
       "6  0.298227   778643023     3232235896  14:cc:20:51:33:ea  18:b7:9e:02:20:44   \n",
       "\n",
       "  Protocol  Source Port  Destination Port  TTL  Length  Win.Size  \\\n",
       "0        1      40234.0            5228.0   64    54.0   65360.0   \n",
       "1        1      40234.0            5228.0   64    54.0   65360.0   \n",
       "2        1        443.0           46330.0  224    54.0     963.0   \n",
       "3        1       3063.0             443.0  100    54.0    3072.0   \n",
       "6        1       5228.0           40234.0   48     9.0   63063.0   \n",
       "\n",
       "                                                Info  \n",
       "0  40234  >  5228 [PSH, ACK] Seq=1 Ack=1 Win=6536...  \n",
       "1  [TCP Dup ACK 1#1] 40234  >  5228 [ACK] Seq=5 A...  \n",
       "2  443  >  46330 [ACK] Seq=1 Ack=1 Win=963 Len=0 ...  \n",
       "3  3063  >  443 [ACK] Seq=1 Ack=1 Win=3072 Len=1 ...  \n",
       "6  5228  >  40234 [PSH, ACK] Seq=1 Ack=5 Win=6306...  "
      ]
     },
     "execution_count": 19,
     "metadata": {},
     "output_type": "execute_result"
    }
   ],
   "source": [
    "data.head()"
   ]
  },
  {
   "cell_type": "code",
   "execution_count": 20,
   "metadata": {},
   "outputs": [],
   "source": [
    "data['Destination Port'] = pd.to_numeric(data['Destination Port'], errors='coerce').fillna(0)\n",
    "data['Length'] = pd.to_numeric(data['Length'], errors='coerce').fillna(0)\n",
    "data['TTL'] = pd.to_numeric(data['TTL'], errors='coerce').fillna(0)\n",
    "data['Win.Size'] = pd.to_numeric(data['Win.Size'], errors='coerce').fillna(0)"
   ]
  },
  {
   "cell_type": "code",
   "execution_count": 21,
   "metadata": {},
   "outputs": [],
   "source": [
    "data = data.drop(['Info'], axis=1)"
   ]
  },
  {
   "cell_type": "code",
   "execution_count": 22,
   "metadata": {},
   "outputs": [],
   "source": [
    "data = data.assign(**{'Device': 0, 'Class': 0})"
   ]
  },
  {
   "cell_type": "code",
   "execution_count": 23,
   "metadata": {},
   "outputs": [
    {
     "data": {
      "text/html": [
       "<div>\n",
       "<style scoped>\n",
       "    .dataframe tbody tr th:only-of-type {\n",
       "        vertical-align: middle;\n",
       "    }\n",
       "\n",
       "    .dataframe tbody tr th {\n",
       "        vertical-align: top;\n",
       "    }\n",
       "\n",
       "    .dataframe thead th {\n",
       "        text-align: right;\n",
       "    }\n",
       "</style>\n",
       "<table border=\"1\" class=\"dataframe\">\n",
       "  <thead>\n",
       "    <tr style=\"text-align: right;\">\n",
       "      <th></th>\n",
       "      <th>Time</th>\n",
       "      <th>IP.Source</th>\n",
       "      <th>IP.Destination</th>\n",
       "      <th>MAC.Source</th>\n",
       "      <th>MAC.Destination</th>\n",
       "      <th>Protocol</th>\n",
       "      <th>Source Port</th>\n",
       "      <th>Destination Port</th>\n",
       "      <th>TTL</th>\n",
       "      <th>Length</th>\n",
       "      <th>Win.Size</th>\n",
       "      <th>Device</th>\n",
       "      <th>Class</th>\n",
       "    </tr>\n",
       "  </thead>\n",
       "  <tbody>\n",
       "    <tr>\n",
       "      <th>0</th>\n",
       "      <td>0.000000</td>\n",
       "      <td>3232235896</td>\n",
       "      <td>778643023</td>\n",
       "      <td>18:b7:9e:02:20:44</td>\n",
       "      <td>14:cc:20:51:33:ea</td>\n",
       "      <td>1</td>\n",
       "      <td>40234.0</td>\n",
       "      <td>5228.0</td>\n",
       "      <td>64.0</td>\n",
       "      <td>54.0</td>\n",
       "      <td>65360.0</td>\n",
       "      <td>0</td>\n",
       "      <td>0</td>\n",
       "    </tr>\n",
       "    <tr>\n",
       "      <th>1</th>\n",
       "      <td>0.000123</td>\n",
       "      <td>3232235896</td>\n",
       "      <td>778643023</td>\n",
       "      <td>18:b7:9e:02:20:44</td>\n",
       "      <td>14:cc:20:51:33:ea</td>\n",
       "      <td>1</td>\n",
       "      <td>40234.0</td>\n",
       "      <td>5228.0</td>\n",
       "      <td>64.0</td>\n",
       "      <td>54.0</td>\n",
       "      <td>65360.0</td>\n",
       "      <td>0</td>\n",
       "      <td>0</td>\n",
       "    </tr>\n",
       "    <tr>\n",
       "      <th>2</th>\n",
       "      <td>0.065516</td>\n",
       "      <td>878178719</td>\n",
       "      <td>3232235882</td>\n",
       "      <td>14:cc:20:51:33:ea</td>\n",
       "      <td>30:8c:fb:2f:e4:b2</td>\n",
       "      <td>1</td>\n",
       "      <td>443.0</td>\n",
       "      <td>46330.0</td>\n",
       "      <td>224.0</td>\n",
       "      <td>54.0</td>\n",
       "      <td>963.0</td>\n",
       "      <td>0</td>\n",
       "      <td>0</td>\n",
       "    </tr>\n",
       "    <tr>\n",
       "      <th>3</th>\n",
       "      <td>0.125605</td>\n",
       "      <td>3232235972</td>\n",
       "      <td>872491130</td>\n",
       "      <td>d0:52:a8:00:67:5e</td>\n",
       "      <td>14:cc:20:51:33:ea</td>\n",
       "      <td>1</td>\n",
       "      <td>3063.0</td>\n",
       "      <td>443.0</td>\n",
       "      <td>100.0</td>\n",
       "      <td>54.0</td>\n",
       "      <td>3072.0</td>\n",
       "      <td>0</td>\n",
       "      <td>0</td>\n",
       "    </tr>\n",
       "    <tr>\n",
       "      <th>6</th>\n",
       "      <td>0.298227</td>\n",
       "      <td>778643023</td>\n",
       "      <td>3232235896</td>\n",
       "      <td>14:cc:20:51:33:ea</td>\n",
       "      <td>18:b7:9e:02:20:44</td>\n",
       "      <td>1</td>\n",
       "      <td>5228.0</td>\n",
       "      <td>40234.0</td>\n",
       "      <td>48.0</td>\n",
       "      <td>9.0</td>\n",
       "      <td>63063.0</td>\n",
       "      <td>0</td>\n",
       "      <td>0</td>\n",
       "    </tr>\n",
       "  </tbody>\n",
       "</table>\n",
       "</div>"
      ],
      "text/plain": [
       "       Time   IP.Source IP.Destination         MAC.Source    MAC.Destination  \\\n",
       "0  0.000000  3232235896      778643023  18:b7:9e:02:20:44  14:cc:20:51:33:ea   \n",
       "1  0.000123  3232235896      778643023  18:b7:9e:02:20:44  14:cc:20:51:33:ea   \n",
       "2  0.065516   878178719     3232235882  14:cc:20:51:33:ea  30:8c:fb:2f:e4:b2   \n",
       "3  0.125605  3232235972      872491130  d0:52:a8:00:67:5e  14:cc:20:51:33:ea   \n",
       "6  0.298227   778643023     3232235896  14:cc:20:51:33:ea  18:b7:9e:02:20:44   \n",
       "\n",
       "  Protocol  Source Port  Destination Port    TTL  Length  Win.Size  Device  \\\n",
       "0        1      40234.0            5228.0   64.0    54.0   65360.0       0   \n",
       "1        1      40234.0            5228.0   64.0    54.0   65360.0       0   \n",
       "2        1        443.0           46330.0  224.0    54.0     963.0       0   \n",
       "3        1       3063.0             443.0  100.0    54.0    3072.0       0   \n",
       "6        1       5228.0           40234.0   48.0     9.0   63063.0       0   \n",
       "\n",
       "   Class  \n",
       "0      0  \n",
       "1      0  \n",
       "2      0  \n",
       "3      0  \n",
       "6      0  "
      ]
     },
     "execution_count": 23,
     "metadata": {},
     "output_type": "execute_result"
    }
   ],
   "source": [
    "data.head()"
   ]
  },
  {
   "cell_type": "markdown",
   "metadata": {},
   "source": [
    "### Device & Class mapping"
   ]
  },
  {
   "cell_type": "code",
   "execution_count": 24,
   "metadata": {},
   "outputs": [],
   "source": [
    "column_values = data.columns\n",
    "column_values\n",
    "data = data.to_numpy()"
   ]
  },
  {
   "cell_type": "code",
   "execution_count": 25,
   "metadata": {},
   "outputs": [],
   "source": [
    "for i in range(len(data)):\n",
    "    if (data[i,3]==\"d0:52:a8:00:67:5e\"):\n",
    "        data[i,11]=\"SmartThings\"\n",
    "        data[i, 12] = 1\n",
    "    elif(data[i,3]==\"44:65:0d:56:cc:d3\"):\n",
    "        data[i, 11] =\"amazon echo\"\n",
    "        data[i, 12] = 2\n",
    "    elif (data[i, 3] == \"70:ee:50:18:34:43\"):\n",
    "        data[i, 11] = \"Netatmo Welcome\"\n",
    "        data[i, 12] = 3\n",
    "    elif (data[i, 3] == \"f4:f2:6d:93:51:f1\"):\n",
    "        data[i, 11] = \"TP-Link Day Night Cloud camera\"\n",
    "        data[i, 12] = 4\n",
    "    elif (data[i, 3] == \"00:16:6c:ab:6b:88\"):\n",
    "        data[i, 11] = \"Samsung SmartCam\"\n",
    "        data[i, 12] = 5\n",
    "    elif (data[i, 3] == \"30:8c:fb:2f:e4:b2\"):\n",
    "        data[i, 11] = \"Dropcam\"\n",
    "        data[i, 12] = 6\n",
    "    elif (data[i, 3] == \"e8:ab:fa:19:de:4f\"):\n",
    "        data[i, 11] = \"Insteon Camera\"\n",
    "        data[i, 12] = 7\n",
    "    elif (data[i, 3] == \"00:24:e4:11:18:a8\"):\n",
    "        data[i, 11] = \"Withings Smart Baby Monitor\"\n",
    "        data[i, 12] = 8\n",
    "    elif (data[i, 3] == \"ec:1a:59:79:f4:89\"):\n",
    "        data[i, 11] = \"Belkin Wemo switch\"\n",
    "        data[i, 12] = 9\n",
    "    elif (data[i, 3] == \"50:c7:bf:00:56:39\"):\n",
    "        data[i, 11] = \"TP-Link Smart plug\"\n",
    "        data[i, 12] = 10\n",
    "    elif (data[i, 3] == \"74:c6:3b:29:d7:1d\"):\n",
    "        data[i, 11] = \"iHome\"\n",
    "        data[i, 12] = 11\n",
    "    elif (data[i, 3] == \"ec:1a:59:83:28:11\"):\n",
    "        data[i, 11] = \"Belkin wemo motion sensor\"\n",
    "        data[i, 12] = 12\n",
    "    elif (data[i, 3] == \"18:b4:30:25:be:e4\"):\n",
    "        data[i, 11] = \"NEST Protect smoke alarm\"\n",
    "        data[i, 12] = 13\n",
    "    elif (data[i, 3] == \"70:ee:50:03:b8:ac\"):\n",
    "        data[i, 11] = \"Netatmo weather station\"\n",
    "        data[i, 12] = 14\n",
    "    elif (data[i, 3] == \"00:24:e4:1b:6f:96\"):\n",
    "        data[i, 11] = \"Withings Smart scale\"\n",
    "        data[i, 12] = 15\n",
    "    elif (data[i, 3] == \"74:6a:89:00:2e:25\"):\n",
    "        data[i, 11] = \"Blipcare Blood Pressure meter\"\n",
    "        data[i, 12] = 16\n",
    "    elif (data[i, 3] == \"00:24:e4:20:28:c6\"):\n",
    "        data[i, 11] = \"Withings Aura smart sleep sensor\"\n",
    "        data[i, 12] = 17\n",
    "    elif (data[i, 3] == \"d0:73:d5:01:83:08\"):\n",
    "        data[i, 11] = \"Light Bulbs LiFX Smart Bulb\"\n",
    "        data[i, 12] = 18\n",
    "    elif (data[i, 3] == \"18:b7:9e:02:20:44\"):\n",
    "        data[i, 11] = \"Triby Speaker\"\n",
    "        data[i, 12] = 19\n",
    "    elif (data[i, 3] == \"e0:76:d0:33:bb:85\"):\n",
    "        data[i, 11] = \"PIX-STAR Photo-frame\"\n",
    "        data[i, 12] = 20\n",
    "    elif (data[i, 3] == \"70:5a:0f:e4:9b:c0\"):\n",
    "        data[i, 11] = \"HP Printer \"\n",
    "        data[i, 12] = 21\n",
    "    elif (data[i, 3] == \"08:21:ef:3b:fc:e3\"):\n",
    "        data[i, 11] = \"Samsung Galaxy Tab\"\n",
    "        data[i, 12] = 22\n",
    "    elif (data[i, 3] == \"30:8c:fb:b6:ea:45\"):\n",
    "        data[i, 11] = \"Nest Dropcam\"\n",
    "        data[i, 12] = 23\n",
    "    elif (data[i, 3] == \"40:f3:08:ff:1e:da\"):\n",
    "        data[i, 11] = \"Android Phone\"\n",
    "        data[i, 12] = 24\n",
    "    elif (data[i, 3] == \"74:2f:68:81:69:42\"):\n",
    "        data[i, 11] = \"Laptop\"\n",
    "        data[i, 12] = 25\n",
    "    elif (data[i, 3] == \"ac:bc:32:d4:6f:2f\"):\n",
    "        data[i, 11] = \"MacBook\"\n",
    "        data[i, 12] = 26\n",
    "    elif (data[i, 3] == \"b4:ce:f6:a7:a3:c2\"):\n",
    "        data[i, 11] = \"Android Phone\"\n",
    "        data[i, 12] = 24\n",
    "    elif (data[i, 3] == \"d0:a6:37:df:a1:e1\"):\n",
    "        data[i, 11] = \"IPhone\"\n",
    "        data[i, 12] = 27\n",
    "    elif (data[i, 3] == \"f4:5c:89:93:cc:85\"):\n",
    "        data[i, 11] = \"MacBook/Iphone\"\n",
    "        data[i, 12] = 28\n",
    "    elif (data[i, 3] == \"14:cc:20:51:33:ea\"):\n",
    "        data[i, 11] = \"TPLink Router Bridge LAN (Gateway)\"\n",
    "        data[i, 12] = 29\n",
    "    elif (data[i, 3] == \"00:62:6e:51:27:2e\"):\n",
    "        data[i, 11] = \"Insteon Camera\"\n",
    "        data[i, 12] = 30\n",
    "    elif (data[i, 3] == \"01:00:5e:7f:ff:fa\"):\n",
    "        data[i, 11] = \"ipv4mcast\"\n",
    "        data[i, 12] = 31\n",
    "    elif (data[i, 3] == \"08:21:ef:3b:fc:e3\"):\n",
    "        data[i, 11] = \"Samsung SmartCam\"\n",
    "        data[i, 12] = 32\n",
    "    elif (data[i, 3] == \"18:b7:9e:02:20:44\"):\n",
    "        data[i, 11] = \"Invoxia\"\n",
    "        data[i, 12] = 33\n",
    "    elif (data[i, 3] == \"18:b4:30:25:be:e4\"):\n",
    "        data[i, 11] = \"Nest Protect Smoke Alarm\"\n",
    "        data[i, 12] = 34\n",
    "    else:\n",
    "        data[i, 11] = 0\n",
    "        data[i, 12] = 0"
   ]
  },
  {
   "cell_type": "code",
   "execution_count": 26,
   "metadata": {},
   "outputs": [],
   "source": [
    "#create list of index\n",
    "list = np.arange(0, len(data), 1)\n",
    "# creating the dataframe\n",
    "df = pd.DataFrame(data=data,index=list,columns=column_values)"
   ]
  },
  {
   "cell_type": "markdown",
   "metadata": {},
   "source": [
    "### Convert MAC adress to number"
   ]
  },
  {
   "cell_type": "code",
   "execution_count": 27,
   "metadata": {},
   "outputs": [],
   "source": [
    "df[['MAC.Source']] = df[['MAC.Source']].fillna('30:8c:fb:2f:e4:b2')\n",
    "df[['MAC.Destination']] = df[['MAC.Destination']].fillna('30:8c:fb:2f:e4:b2')\n",
    "\n",
    "df['MAC.Source']  = [x.replace(':','') for x in df['MAC.Source'] ]\n",
    "df['MAC.Destination'] = [x.replace(':','') for x in df['MAC.Destination']]\n",
    "\n",
    "df['MAC.Source']  = df['MAC.Source'] .apply(chunkMacAddress)\n",
    "df['MAC.Destination'] = df['MAC.Destination'].apply(chunkMacAddress)\n",
    "\n",
    "df['MAC.Source']  = df['MAC.Source'] .apply(strToNumber)\n",
    "df['MAC.Destination'] = df['MAC.Destination'].apply(strToNumber)"
   ]
  },
  {
   "cell_type": "code",
   "execution_count": 28,
   "metadata": {},
   "outputs": [
    {
     "data": {
      "text/html": [
       "<div>\n",
       "<style scoped>\n",
       "    .dataframe tbody tr th:only-of-type {\n",
       "        vertical-align: middle;\n",
       "    }\n",
       "\n",
       "    .dataframe tbody tr th {\n",
       "        vertical-align: top;\n",
       "    }\n",
       "\n",
       "    .dataframe thead th {\n",
       "        text-align: right;\n",
       "    }\n",
       "</style>\n",
       "<table border=\"1\" class=\"dataframe\">\n",
       "  <thead>\n",
       "    <tr style=\"text-align: right;\">\n",
       "      <th></th>\n",
       "      <th>Time</th>\n",
       "      <th>IP.Source</th>\n",
       "      <th>IP.Destination</th>\n",
       "      <th>MAC.Source</th>\n",
       "      <th>MAC.Destination</th>\n",
       "      <th>Protocol</th>\n",
       "      <th>Source Port</th>\n",
       "      <th>Destination Port</th>\n",
       "      <th>TTL</th>\n",
       "      <th>Length</th>\n",
       "      <th>Win.Size</th>\n",
       "      <th>Device</th>\n",
       "      <th>Class</th>\n",
       "    </tr>\n",
       "  </thead>\n",
       "  <tbody>\n",
       "    <tr>\n",
       "      <th>0</th>\n",
       "      <td>0.0</td>\n",
       "      <td>3232235896</td>\n",
       "      <td>778643023</td>\n",
       "      <td>1865</td>\n",
       "      <td>1829</td>\n",
       "      <td>1</td>\n",
       "      <td>40234.0</td>\n",
       "      <td>5228.0</td>\n",
       "      <td>64.0</td>\n",
       "      <td>54.0</td>\n",
       "      <td>65360.0</td>\n",
       "      <td>Triby Speaker</td>\n",
       "      <td>19</td>\n",
       "    </tr>\n",
       "    <tr>\n",
       "      <th>1</th>\n",
       "      <td>0.000123</td>\n",
       "      <td>3232235896</td>\n",
       "      <td>778643023</td>\n",
       "      <td>1865</td>\n",
       "      <td>1829</td>\n",
       "      <td>1</td>\n",
       "      <td>40234.0</td>\n",
       "      <td>5228.0</td>\n",
       "      <td>64.0</td>\n",
       "      <td>54.0</td>\n",
       "      <td>65360.0</td>\n",
       "      <td>Triby Speaker</td>\n",
       "      <td>19</td>\n",
       "    </tr>\n",
       "    <tr>\n",
       "      <th>2</th>\n",
       "      <td>0.065516</td>\n",
       "      <td>878178719</td>\n",
       "      <td>3232235882</td>\n",
       "      <td>1829</td>\n",
       "      <td>1865</td>\n",
       "      <td>1</td>\n",
       "      <td>443.0</td>\n",
       "      <td>46330.0</td>\n",
       "      <td>224.0</td>\n",
       "      <td>54.0</td>\n",
       "      <td>963.0</td>\n",
       "      <td>TPLink Router Bridge LAN (Gateway)</td>\n",
       "      <td>29</td>\n",
       "    </tr>\n",
       "    <tr>\n",
       "      <th>3</th>\n",
       "      <td>0.125605</td>\n",
       "      <td>3232235972</td>\n",
       "      <td>872491130</td>\n",
       "      <td>1865</td>\n",
       "      <td>1829</td>\n",
       "      <td>1</td>\n",
       "      <td>3063.0</td>\n",
       "      <td>443.0</td>\n",
       "      <td>100.0</td>\n",
       "      <td>54.0</td>\n",
       "      <td>3072.0</td>\n",
       "      <td>SmartThings</td>\n",
       "      <td>1</td>\n",
       "    </tr>\n",
       "    <tr>\n",
       "      <th>4</th>\n",
       "      <td>0.298227</td>\n",
       "      <td>778643023</td>\n",
       "      <td>3232235896</td>\n",
       "      <td>1829</td>\n",
       "      <td>1865</td>\n",
       "      <td>1</td>\n",
       "      <td>5228.0</td>\n",
       "      <td>40234.0</td>\n",
       "      <td>48.0</td>\n",
       "      <td>9.0</td>\n",
       "      <td>63063.0</td>\n",
       "      <td>TPLink Router Bridge LAN (Gateway)</td>\n",
       "      <td>29</td>\n",
       "    </tr>\n",
       "  </tbody>\n",
       "</table>\n",
       "</div>"
      ],
      "text/plain": [
       "       Time   IP.Source IP.Destination  MAC.Source  MAC.Destination Protocol  \\\n",
       "0       0.0  3232235896      778643023        1865             1829        1   \n",
       "1  0.000123  3232235896      778643023        1865             1829        1   \n",
       "2  0.065516   878178719     3232235882        1829             1865        1   \n",
       "3  0.125605  3232235972      872491130        1865             1829        1   \n",
       "4  0.298227   778643023     3232235896        1829             1865        1   \n",
       "\n",
       "  Source Port Destination Port    TTL Length Win.Size  \\\n",
       "0     40234.0           5228.0   64.0   54.0  65360.0   \n",
       "1     40234.0           5228.0   64.0   54.0  65360.0   \n",
       "2       443.0          46330.0  224.0   54.0    963.0   \n",
       "3      3063.0            443.0  100.0   54.0   3072.0   \n",
       "4      5228.0          40234.0   48.0    9.0  63063.0   \n",
       "\n",
       "                               Device Class  \n",
       "0                       Triby Speaker    19  \n",
       "1                       Triby Speaker    19  \n",
       "2  TPLink Router Bridge LAN (Gateway)    29  \n",
       "3                         SmartThings     1  \n",
       "4  TPLink Router Bridge LAN (Gateway)    29  "
      ]
     },
     "execution_count": 28,
     "metadata": {},
     "output_type": "execute_result"
    }
   ],
   "source": [
    "df.head()"
   ]
  },
  {
   "cell_type": "code",
   "execution_count": 29,
   "metadata": {},
   "outputs": [
    {
     "data": {
      "text/plain": [
       "(685095, 13)"
      ]
     },
     "execution_count": 29,
     "metadata": {},
     "output_type": "execute_result"
    }
   ],
   "source": [
    "df.shape"
   ]
  },
  {
   "cell_type": "code",
   "execution_count": 60,
   "metadata": {},
   "outputs": [],
   "source": [
    "import sklearn.cluster as cluster\n",
    "import matplotlib.pyplot as plt\n",
    "import seaborn as sns\n",
    "sns.set_theme(style=\"darkgrid\")\n",
    "from sklearn.cluster import KMeans"
   ]
  },
  {
   "cell_type": "code",
   "execution_count": 32,
   "metadata": {},
   "outputs": [],
   "source": [
    "df_short = df.head(int(len(df) * 0.2))"
   ]
  },
  {
   "cell_type": "code",
   "execution_count": 33,
   "metadata": {},
   "outputs": [
    {
     "data": {
      "text/html": [
       "<div>\n",
       "<style scoped>\n",
       "    .dataframe tbody tr th:only-of-type {\n",
       "        vertical-align: middle;\n",
       "    }\n",
       "\n",
       "    .dataframe tbody tr th {\n",
       "        vertical-align: top;\n",
       "    }\n",
       "\n",
       "    .dataframe thead th {\n",
       "        text-align: right;\n",
       "    }\n",
       "</style>\n",
       "<table border=\"1\" class=\"dataframe\">\n",
       "  <thead>\n",
       "    <tr style=\"text-align: right;\">\n",
       "      <th></th>\n",
       "      <th>Time</th>\n",
       "      <th>IP.Source</th>\n",
       "      <th>IP.Destination</th>\n",
       "      <th>MAC.Source</th>\n",
       "      <th>MAC.Destination</th>\n",
       "      <th>Protocol</th>\n",
       "      <th>Source Port</th>\n",
       "      <th>Destination Port</th>\n",
       "      <th>TTL</th>\n",
       "      <th>Length</th>\n",
       "      <th>Win.Size</th>\n",
       "      <th>Device</th>\n",
       "      <th>Class</th>\n",
       "    </tr>\n",
       "  </thead>\n",
       "  <tbody>\n",
       "    <tr>\n",
       "      <th>0</th>\n",
       "      <td>0.0</td>\n",
       "      <td>3232235896</td>\n",
       "      <td>778643023</td>\n",
       "      <td>1865</td>\n",
       "      <td>1829</td>\n",
       "      <td>1</td>\n",
       "      <td>40234.0</td>\n",
       "      <td>5228.0</td>\n",
       "      <td>64.0</td>\n",
       "      <td>54.0</td>\n",
       "      <td>65360.0</td>\n",
       "      <td>Triby Speaker</td>\n",
       "      <td>19</td>\n",
       "    </tr>\n",
       "    <tr>\n",
       "      <th>1</th>\n",
       "      <td>0.000123</td>\n",
       "      <td>3232235896</td>\n",
       "      <td>778643023</td>\n",
       "      <td>1865</td>\n",
       "      <td>1829</td>\n",
       "      <td>1</td>\n",
       "      <td>40234.0</td>\n",
       "      <td>5228.0</td>\n",
       "      <td>64.0</td>\n",
       "      <td>54.0</td>\n",
       "      <td>65360.0</td>\n",
       "      <td>Triby Speaker</td>\n",
       "      <td>19</td>\n",
       "    </tr>\n",
       "    <tr>\n",
       "      <th>2</th>\n",
       "      <td>0.065516</td>\n",
       "      <td>878178719</td>\n",
       "      <td>3232235882</td>\n",
       "      <td>1829</td>\n",
       "      <td>1865</td>\n",
       "      <td>1</td>\n",
       "      <td>443.0</td>\n",
       "      <td>46330.0</td>\n",
       "      <td>224.0</td>\n",
       "      <td>54.0</td>\n",
       "      <td>963.0</td>\n",
       "      <td>TPLink Router Bridge LAN (Gateway)</td>\n",
       "      <td>29</td>\n",
       "    </tr>\n",
       "    <tr>\n",
       "      <th>3</th>\n",
       "      <td>0.125605</td>\n",
       "      <td>3232235972</td>\n",
       "      <td>872491130</td>\n",
       "      <td>1865</td>\n",
       "      <td>1829</td>\n",
       "      <td>1</td>\n",
       "      <td>3063.0</td>\n",
       "      <td>443.0</td>\n",
       "      <td>100.0</td>\n",
       "      <td>54.0</td>\n",
       "      <td>3072.0</td>\n",
       "      <td>SmartThings</td>\n",
       "      <td>1</td>\n",
       "    </tr>\n",
       "    <tr>\n",
       "      <th>4</th>\n",
       "      <td>0.298227</td>\n",
       "      <td>778643023</td>\n",
       "      <td>3232235896</td>\n",
       "      <td>1829</td>\n",
       "      <td>1865</td>\n",
       "      <td>1</td>\n",
       "      <td>5228.0</td>\n",
       "      <td>40234.0</td>\n",
       "      <td>48.0</td>\n",
       "      <td>9.0</td>\n",
       "      <td>63063.0</td>\n",
       "      <td>TPLink Router Bridge LAN (Gateway)</td>\n",
       "      <td>29</td>\n",
       "    </tr>\n",
       "    <tr>\n",
       "      <th>...</th>\n",
       "      <td>...</td>\n",
       "      <td>...</td>\n",
       "      <td>...</td>\n",
       "      <td>...</td>\n",
       "      <td>...</td>\n",
       "      <td>...</td>\n",
       "      <td>...</td>\n",
       "      <td>...</td>\n",
       "      <td>...</td>\n",
       "      <td>...</td>\n",
       "      <td>...</td>\n",
       "      <td>...</td>\n",
       "      <td>...</td>\n",
       "    </tr>\n",
       "    <tr>\n",
       "      <th>137014</th>\n",
       "      <td>28109.055737</td>\n",
       "      <td>0</td>\n",
       "      <td>0</td>\n",
       "      <td>1865</td>\n",
       "      <td>1829</td>\n",
       "      <td>2</td>\n",
       "      <td>46330.0</td>\n",
       "      <td>443.0</td>\n",
       "      <td>64.0</td>\n",
       "      <td>316.0</td>\n",
       "      <td>2549.0</td>\n",
       "      <td>Samsung Galaxy Tab</td>\n",
       "      <td>22</td>\n",
       "    </tr>\n",
       "    <tr>\n",
       "      <th>137015</th>\n",
       "      <td>28110.15788</td>\n",
       "      <td>878178719</td>\n",
       "      <td>3232235882</td>\n",
       "      <td>1829</td>\n",
       "      <td>1865</td>\n",
       "      <td>1</td>\n",
       "      <td>443.0</td>\n",
       "      <td>46330.0</td>\n",
       "      <td>224.0</td>\n",
       "      <td>316.0</td>\n",
       "      <td>963.0</td>\n",
       "      <td>TPLink Router Bridge LAN (Gateway)</td>\n",
       "      <td>29</td>\n",
       "    </tr>\n",
       "    <tr>\n",
       "      <th>137016</th>\n",
       "      <td>28110.278573</td>\n",
       "      <td>3232235972</td>\n",
       "      <td>872491130</td>\n",
       "      <td>1865</td>\n",
       "      <td>1829</td>\n",
       "      <td>1</td>\n",
       "      <td>3063.0</td>\n",
       "      <td>443.0</td>\n",
       "      <td>100.0</td>\n",
       "      <td>316.0</td>\n",
       "      <td>3072.0</td>\n",
       "      <td>SmartThings</td>\n",
       "      <td>1</td>\n",
       "    </tr>\n",
       "    <tr>\n",
       "      <th>137017</th>\n",
       "      <td>28110.48317</td>\n",
       "      <td>872491130</td>\n",
       "      <td>3232235972</td>\n",
       "      <td>1829</td>\n",
       "      <td>1865</td>\n",
       "      <td>1</td>\n",
       "      <td>443.0</td>\n",
       "      <td>3063.0</td>\n",
       "      <td>32.0</td>\n",
       "      <td>316.0</td>\n",
       "      <td>19832.0</td>\n",
       "      <td>TPLink Router Bridge LAN (Gateway)</td>\n",
       "      <td>29</td>\n",
       "    </tr>\n",
       "    <tr>\n",
       "      <th>137018</th>\n",
       "      <td>28111.206913</td>\n",
       "      <td>878178719</td>\n",
       "      <td>3232235882</td>\n",
       "      <td>1829</td>\n",
       "      <td>1865</td>\n",
       "      <td>1</td>\n",
       "      <td>443.0</td>\n",
       "      <td>46330.0</td>\n",
       "      <td>224.0</td>\n",
       "      <td>316.0</td>\n",
       "      <td>963.0</td>\n",
       "      <td>TPLink Router Bridge LAN (Gateway)</td>\n",
       "      <td>29</td>\n",
       "    </tr>\n",
       "  </tbody>\n",
       "</table>\n",
       "<p>137019 rows × 13 columns</p>\n",
       "</div>"
      ],
      "text/plain": [
       "                Time   IP.Source IP.Destination  MAC.Source  MAC.Destination  \\\n",
       "0                0.0  3232235896      778643023        1865             1829   \n",
       "1           0.000123  3232235896      778643023        1865             1829   \n",
       "2           0.065516   878178719     3232235882        1829             1865   \n",
       "3           0.125605  3232235972      872491130        1865             1829   \n",
       "4           0.298227   778643023     3232235896        1829             1865   \n",
       "...              ...         ...            ...         ...              ...   \n",
       "137014  28109.055737           0              0        1865             1829   \n",
       "137015   28110.15788   878178719     3232235882        1829             1865   \n",
       "137016  28110.278573  3232235972      872491130        1865             1829   \n",
       "137017   28110.48317   872491130     3232235972        1829             1865   \n",
       "137018  28111.206913   878178719     3232235882        1829             1865   \n",
       "\n",
       "       Protocol Source Port Destination Port    TTL Length Win.Size  \\\n",
       "0             1     40234.0           5228.0   64.0   54.0  65360.0   \n",
       "1             1     40234.0           5228.0   64.0   54.0  65360.0   \n",
       "2             1       443.0          46330.0  224.0   54.0    963.0   \n",
       "3             1      3063.0            443.0  100.0   54.0   3072.0   \n",
       "4             1      5228.0          40234.0   48.0    9.0  63063.0   \n",
       "...         ...         ...              ...    ...    ...      ...   \n",
       "137014        2     46330.0            443.0   64.0  316.0   2549.0   \n",
       "137015        1       443.0          46330.0  224.0  316.0    963.0   \n",
       "137016        1      3063.0            443.0  100.0  316.0   3072.0   \n",
       "137017        1       443.0           3063.0   32.0  316.0  19832.0   \n",
       "137018        1       443.0          46330.0  224.0  316.0    963.0   \n",
       "\n",
       "                                    Device Class  \n",
       "0                            Triby Speaker    19  \n",
       "1                            Triby Speaker    19  \n",
       "2       TPLink Router Bridge LAN (Gateway)    29  \n",
       "3                              SmartThings     1  \n",
       "4       TPLink Router Bridge LAN (Gateway)    29  \n",
       "...                                    ...   ...  \n",
       "137014                  Samsung Galaxy Tab    22  \n",
       "137015  TPLink Router Bridge LAN (Gateway)    29  \n",
       "137016                         SmartThings     1  \n",
       "137017  TPLink Router Bridge LAN (Gateway)    29  \n",
       "137018  TPLink Router Bridge LAN (Gateway)    29  \n",
       "\n",
       "[137019 rows x 13 columns]"
      ]
     },
     "execution_count": 33,
     "metadata": {},
     "output_type": "execute_result"
    }
   ],
   "source": [
    "df_short"
   ]
  },
  {
   "cell_type": "code",
   "execution_count": 37,
   "metadata": {},
   "outputs": [],
   "source": [
    "features_list = ['TTL','Length','Win.Size','MAC.Source','MAC.Destination']"
   ]
  },
  {
   "cell_type": "code",
   "execution_count": 101,
   "metadata": {},
   "outputs": [],
   "source": [
    "K=range(8,25)\n",
    "wss = []\n",
    "for k in K:\n",
    "    kmeans=cluster.KMeans(n_clusters=int(k),init=\"k-means++\")\n",
    "    kmeans=kmeans.fit(df_short[features_list])\n",
    "    wss_iter = kmeans.inertia_\n",
    "    wss.append(wss_iter)"
   ]
  },
  {
   "cell_type": "code",
   "execution_count": 87,
   "metadata": {},
   "outputs": [
    {
     "data": {
      "text/html": [
       "<div>\n",
       "<style scoped>\n",
       "    .dataframe tbody tr th:only-of-type {\n",
       "        vertical-align: middle;\n",
       "    }\n",
       "\n",
       "    .dataframe tbody tr th {\n",
       "        vertical-align: top;\n",
       "    }\n",
       "\n",
       "    .dataframe thead th {\n",
       "        text-align: right;\n",
       "    }\n",
       "</style>\n",
       "<table border=\"1\" class=\"dataframe\">\n",
       "  <thead>\n",
       "    <tr style=\"text-align: right;\">\n",
       "      <th></th>\n",
       "      <th>Number of clusters</th>\n",
       "      <th>WSS</th>\n",
       "    </tr>\n",
       "  </thead>\n",
       "  <tbody>\n",
       "    <tr>\n",
       "      <th>0</th>\n",
       "      <td>8</td>\n",
       "      <td>1.220753e+11</td>\n",
       "    </tr>\n",
       "    <tr>\n",
       "      <th>1</th>\n",
       "      <td>9</td>\n",
       "      <td>1.009849e+11</td>\n",
       "    </tr>\n",
       "    <tr>\n",
       "      <th>2</th>\n",
       "      <td>10</td>\n",
       "      <td>8.653259e+10</td>\n",
       "    </tr>\n",
       "    <tr>\n",
       "      <th>3</th>\n",
       "      <td>11</td>\n",
       "      <td>7.407676e+10</td>\n",
       "    </tr>\n",
       "    <tr>\n",
       "      <th>4</th>\n",
       "      <td>12</td>\n",
       "      <td>6.748242e+10</td>\n",
       "    </tr>\n",
       "    <tr>\n",
       "      <th>5</th>\n",
       "      <td>13</td>\n",
       "      <td>6.178076e+10</td>\n",
       "    </tr>\n",
       "    <tr>\n",
       "      <th>6</th>\n",
       "      <td>14</td>\n",
       "      <td>5.160275e+10</td>\n",
       "    </tr>\n",
       "    <tr>\n",
       "      <th>7</th>\n",
       "      <td>15</td>\n",
       "      <td>4.766022e+10</td>\n",
       "    </tr>\n",
       "    <tr>\n",
       "      <th>8</th>\n",
       "      <td>16</td>\n",
       "      <td>4.238978e+10</td>\n",
       "    </tr>\n",
       "    <tr>\n",
       "      <th>9</th>\n",
       "      <td>17</td>\n",
       "      <td>3.895611e+10</td>\n",
       "    </tr>\n",
       "    <tr>\n",
       "      <th>10</th>\n",
       "      <td>18</td>\n",
       "      <td>3.616425e+10</td>\n",
       "    </tr>\n",
       "    <tr>\n",
       "      <th>11</th>\n",
       "      <td>19</td>\n",
       "      <td>3.229272e+10</td>\n",
       "    </tr>\n",
       "    <tr>\n",
       "      <th>12</th>\n",
       "      <td>20</td>\n",
       "      <td>2.863159e+10</td>\n",
       "    </tr>\n",
       "    <tr>\n",
       "      <th>13</th>\n",
       "      <td>21</td>\n",
       "      <td>2.617962e+10</td>\n",
       "    </tr>\n",
       "    <tr>\n",
       "      <th>14</th>\n",
       "      <td>22</td>\n",
       "      <td>2.371866e+10</td>\n",
       "    </tr>\n",
       "    <tr>\n",
       "      <th>15</th>\n",
       "      <td>23</td>\n",
       "      <td>2.265120e+10</td>\n",
       "    </tr>\n",
       "    <tr>\n",
       "      <th>16</th>\n",
       "      <td>24</td>\n",
       "      <td>2.129254e+10</td>\n",
       "    </tr>\n",
       "  </tbody>\n",
       "</table>\n",
       "</div>"
      ],
      "text/plain": [
       "    Number of clusters           WSS\n",
       "0                    8  1.220753e+11\n",
       "1                    9  1.009849e+11\n",
       "2                   10  8.653259e+10\n",
       "3                   11  7.407676e+10\n",
       "4                   12  6.748242e+10\n",
       "5                   13  6.178076e+10\n",
       "6                   14  5.160275e+10\n",
       "7                   15  4.766022e+10\n",
       "8                   16  4.238978e+10\n",
       "9                   17  3.895611e+10\n",
       "10                  18  3.616425e+10\n",
       "11                  19  3.229272e+10\n",
       "12                  20  2.863159e+10\n",
       "13                  21  2.617962e+10\n",
       "14                  22  2.371866e+10\n",
       "15                  23  2.265120e+10\n",
       "16                  24  2.129254e+10"
      ]
     },
     "execution_count": 87,
     "metadata": {},
     "output_type": "execute_result"
    }
   ],
   "source": [
    "mycenters = pd.DataFrame({'Number of clusters' : K, 'WSS' : wss})\n",
    "mycenters"
   ]
  },
  {
   "cell_type": "code",
   "execution_count": 102,
   "metadata": {},
   "outputs": [
    {
     "data": {
      "text/plain": [
       "<seaborn.axisgrid.FacetGrid at 0x289c00d1fd0>"
      ]
     },
     "execution_count": 102,
     "metadata": {},
     "output_type": "execute_result"
    },
    {
     "data": {
      "image/png": "[encoded data removed]",
      "text/plain": [
       "<Figure size 360x360 with 1 Axes>"
      ]
     },
     "metadata": {},
     "output_type": "display_data"
    }
   ],
   "source": [
    "#sns.scatterplot(x = 'Clusters', y = 'WSS', data = mycenters, marker=\"*\")\n",
    "sns.relplot(x=\"Number of clusters\", y=\"WSS\", sort=False, kind=\"line\",marker=\"*\", legend=\"auto\",data=mycenters)"
   ]
  },
  {
   "cell_type": "code",
   "execution_count": 103,
   "metadata": {},
   "outputs": [
    {
     "data": {
      "text/plain": [
       "<seaborn.axisgrid.FacetGrid at 0x289bff818b0>"
      ]
     },
     "execution_count": 103,
     "metadata": {},
     "output_type": "execute_result"
    },
    {
     "data": {
      "image/png": "[encoded data removed]",
      "text/plain": [
       "<Figure size 360x360 with 1 Axes>"
      ]
     },
     "metadata": {},
     "output_type": "display_data"
    }
   ],
   "source": [
    "K=range(6,25)\n",
    "wss = []\n",
    "for k in K:\n",
    "    kmeans=cluster.KMeans(n_clusters=k,init=\"k-means++\")\n",
    "    kmeans=kmeans.fit(df_short[features_list])\n",
    "    wss_iter = kmeans.inertia_\n",
    "    wss.append(wss_iter)\n",
    "\n",
    "\n",
    "#sns.scatterplot(x = 'Clusters', y = 'WSS', data = mycenters, marker=\"*\")\n",
    "sns.relplot(x=\"Number of clusters\", y=\"WSS\", sort=False, kind=\"line\",marker=\"*\", legend=\"auto\",data=mycenters)"
   ]
  },
  {
   "cell_type": "code",
   "execution_count": 104,
   "metadata": {},
   "outputs": [
    {
     "data": {
      "text/plain": [
       "<seaborn.axisgrid.FacetGrid at 0x289c00c59d0>"
      ]
     },
     "execution_count": 104,
     "metadata": {},
     "output_type": "execute_result"
    },
    {
     "data": {
      "image/png": "[encoded data removed]",
      "text/plain": [
       "<Figure size 360x360 with 1 Axes>"
      ]
     },
     "metadata": {},
     "output_type": "display_data"
    }
   ],
   "source": [
    "K=range(10,28)\n",
    "wss = []\n",
    "for k in K:\n",
    "    kmeans=cluster.KMeans(n_clusters=k,init=\"k-means++\")\n",
    "    kmeans=kmeans.fit(df_short[features_list])\n",
    "    wss_iter = kmeans.inertia_\n",
    "    wss.append(wss_iter)\n",
    "\n",
    "\n",
    "#sns.scatterplot(x = 'Clusters', y = 'WSS', data = mycenters, marker=\"*\")\n",
    "sns.relplot(x=\"Number of clusters\", y=\"WSS\", sort=False, kind=\"line\",marker=\"*\", legend=\"auto\",data=mycenters)"
   ]
  },
  {
   "cell_type": "code",
   "execution_count": 105,
   "metadata": {},
   "outputs": [
    {
     "data": {
      "text/plain": [
       "<seaborn.axisgrid.FacetGrid at 0x289c03946d0>"
      ]
     },
     "execution_count": 105,
     "metadata": {},
     "output_type": "execute_result"
    },
    {
     "data": {
      "image/png": "[encoded data removed]",
      "text/plain": [
       "<Figure size 360x360 with 1 Axes>"
      ]
     },
     "metadata": {},
     "output_type": "display_data"
    }
   ],
   "source": [
    "K=range(10,28)\n",
    "wss = []\n",
    "for k in K:\n",
    "    kmeans=cluster.KMeans(n_clusters=k,init=\"k-means++\")\n",
    "    kmeans=kmeans.fit(df_short[features_list])\n",
    "    wss_iter = kmeans.inertia_\n",
    "    wss.append(wss_iter)\n",
    "\n",
    "sns.relplot(x=\"Number of clusters\", y=\"WSS\", sort=False, kind=\"line\",marker=\"*\", legend=\"auto\",data=mycenters)"
   ]
  },
  {
   "cell_type": "code",
   "execution_count": 108,
   "metadata": {},
   "outputs": [
    {
     "data": {
      "text/plain": [
       "<seaborn.axisgrid.FacetGrid at 0x289c0631f10>"
      ]
     },
     "execution_count": 108,
     "metadata": {},
     "output_type": "execute_result"
    },
    {
     "data": {
      "image/png": "[encoded data removed]",
      "text/plain": [
       "<Figure size 360x360 with 1 Axes>"
      ]
     },
     "metadata": {},
     "output_type": "display_data"
    }
   ],
   "source": [
    "sns.relplot(x=\"Number of clusters\", y=\"WSS\", sort=False, kind=\"line\",marker=\"*\", legend=\"auto\",data=mycenters)"
   ]
  },
  {
   "cell_type": "code",
   "execution_count": 109,
   "metadata": {},
   "outputs": [
    {
     "data": {
      "text/plain": [
       "<seaborn.axisgrid.FacetGrid at 0x289cebb9490>"
      ]
     },
     "execution_count": 109,
     "metadata": {},
     "output_type": "execute_result"
    },
    {
     "data": {
      "image/png": "[encoded data removed]",
      "text/plain": [
       "<Figure size 360x360 with 1 Axes>"
      ]
     },
     "metadata": {},
     "output_type": "display_data"
    }
   ],
   "source": [
    "sns.relplot(x=\"Number of clusters\", y=\"WSS\", sort=False, kind=\"line\",marker=\"*\", legend=\"auto\",data=mycenters)"
   ]
  }
 ],
 "metadata": {
  "interpreter": {
   "hash": "a2aaef6ddf4cebf56f7b2bbc94ef3383934707c729001d0b4d87d5999887b4e4"
  },
  "kernelspec": {
   "display_name": "Python 3.8.8 64-bit ('base': conda)",
   "name": "python3"
  },
  "language_info": {
   "codemirror_mode": {
    "name": "ipython",
    "version": 3
   },
   "file_extension": ".py",
   "mimetype": "text/x-python",
   "name": "python",
   "nbconvert_exporter": "python",
   "pygments_lexer": "ipython3",
   "version": "3.8.8"
  },
  "orig_nbformat": 4
 },
 "nbformat": 4,
 "nbformat_minor": 2
}
